{
 "cells": [
  {
   "cell_type": "code",
   "execution_count": 1,
   "metadata": {},
   "outputs": [
    {
     "name": "stdout",
     "output_type": "stream",
     "text": [
      "Twinkle, twinkle, little star,\n",
      "      How I wonder what you are!\n",
      "            Up above the world so high,\n",
      "Twinkle, twinkle, little star,\n",
      "      HOw I wonder what you are!\n"
     ]
    }
   ],
   "source": [
    "state1 = \"Twinkle, twinkle, little star,\"\n",
    "state2 = \"      How I wonder what you are!\"\n",
    "state3 = \"            Up above the world so high,\"\n",
    "state4 = \"Twinkle, twinkle, little star,\"\n",
    "state5 = \"      HOw I wonder what you are!\"\n",
    "\n",
    "print(state1)\n",
    "print(state2)\n",
    "print(state3)\n",
    "print(state4)\n",
    "print(state5)"
   ]
  },
  {
   "cell_type": "code",
   "execution_count": 2,
   "metadata": {},
   "outputs": [
    {
     "name": "stdout",
     "output_type": "stream",
     "text": [
      "Python Version: \n",
      "3.7.4 (default, Aug 13 2019, 20:35:49) \n",
      "[GCC 7.3.0]\n"
     ]
    }
   ],
   "source": [
    "import sys\n",
    "print(\"Python Version: \")\n",
    "print(sys.version)"
   ]
  },
  {
   "cell_type": "code",
   "execution_count": 3,
   "metadata": {},
   "outputs": [
    {
     "name": "stdout",
     "output_type": "stream",
     "text": [
      "Today's Time: 2019-11-03\n",
      "Today's Date: 03/11/2019\n"
     ]
    }
   ],
   "source": [
    "from datetime import date\n",
    "from datetime import datetime\n",
    "today = date.today()\n",
    "now = datetime.now()\n",
    "print(\"Today's Time:\", today)\n",
    "dt_string = now.strftime(\"%d/%m/%Y\")\n",
    "print(\"Today's Date:\", dt_string)"
   ]
  },
  {
   "cell_type": "code",
   "execution_count": 4,
   "metadata": {},
   "outputs": [
    {
     "name": "stdout",
     "output_type": "stream",
     "text": [
      "Enter the radius of Circle: 5\n",
      "Area of Circle is:  49.518045\n"
     ]
    }
   ],
   "source": [
    "radius = int(input(\"Enter the radius of Circle: \"))\n",
    "pi = 3.147\n",
    "area = (3.147 * 3.147) * radius\n",
    "print(\"Area of Circle is: \", area)"
   ]
  },
  {
   "cell_type": "code",
   "execution_count": 5,
   "metadata": {},
   "outputs": [
    {
     "name": "stdout",
     "output_type": "stream",
     "text": [
      "Enter first name: AHMER\n",
      "Enter last name: IRFAN\n",
      "['R', 'E', 'M', 'H', 'A']\n",
      "['N', 'A', 'F', 'R', 'I']\n"
     ]
    }
   ],
   "source": [
    "f_name = input(\"Enter first name: \")\n",
    "l_name = input(\"Enter last name: \")\n",
    "\n",
    "print(list(reversed(f_name)))\n",
    "print(list(reversed(l_name)))"
   ]
  },
  {
   "cell_type": "code",
   "execution_count": 6,
   "metadata": {},
   "outputs": [
    {
     "name": "stdout",
     "output_type": "stream",
     "text": [
      "Enter first digit: 5\n",
      "Enter second digit: 2\n",
      "The sum of 5 and 2 is 7\n"
     ]
    }
   ],
   "source": [
    "input1 = int(input(\"Enter first digit: \"))\n",
    "input2 = int(input(\"Enter second digit: \"))\n",
    "ans = input1 + input2\n",
    "print('The sum of {0} and {1} is {2}'.format(input1,input2,ans))"
   ]
  },
  {
   "cell_type": "code",
   "execution_count": null,
   "metadata": {},
   "outputs": [],
   "source": []
  }
 ],
 "metadata": {
  "kernelspec": {
   "display_name": "Python 3",
   "language": "python",
   "name": "python3"
  },
  "language_info": {
   "codemirror_mode": {
    "name": "ipython",
    "version": 3
   },
   "file_extension": ".py",
   "mimetype": "text/x-python",
   "name": "python",
   "nbconvert_exporter": "python",
   "pygments_lexer": "ipython3",
   "version": "3.7.4"
  }
 },
 "nbformat": 4,
 "nbformat_minor": 2
}
